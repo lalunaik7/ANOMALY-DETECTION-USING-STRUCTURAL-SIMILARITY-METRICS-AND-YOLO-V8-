{
  "cells": [
    {
      "cell_type": "code",
      "execution_count": null,
      "metadata": {
        "colab": {
          "base_uri": "https://localhost:8080/"
        },
        "id": "os_UzW-_cyNX",
        "outputId": "32fb4b7a-fbc2-46fd-f5bb-800b03f30785"
      },
      "outputs": [],
      "source": [
        "!pip install roboflow ultralytics opencv-python-headless scikit-image matplotlib seaborn"
      ]
    },
    {
      "cell_type": "code",
      "execution_count": null,
      "metadata": {
        "colab": {
          "base_uri": "https://localhost:8080/"
        },
        "id": "JvZduG94c6XA",
        "outputId": "b4c8b3ca-ecce-43cf-d174-3b74c88c306a"
      },
      "outputs": [],
      "source": [
        "from roboflow import Roboflow\n",
        "\n",
        "rf = Roboflow(api_key=\"J1mmAuxLk77g4eiOvCmr\")\n",
        "project = rf.workspace(\"project-qemwo\").project(\"mvtec-dl9fi\")\n",
        "version = project.version(5)\n",
        "dataset = version.download(\"yolov8\")"
      ]
    },
    {
      "cell_type": "code",
      "execution_count": null,
      "metadata": {
        "id": "Nk3HBIXLc946"
      },
      "outputs": [],
      "source": [
        "import os\n",
        "from PIL import Image\n",
        "import numpy as np\n",
        "import pandas as pd\n",
        "import matplotlib.pyplot as plt\n",
        "import seaborn as sns\n",
        "import cv2\n",
        "import yaml\n",
        "\n",
        "# Define the base paths for each dataset type.\n",
        "# These paths are given as an example; update them if your folder structure differs.\n",
        "dataset_paths = {\n",
        "    'train': '/content/mvtec-5/train/images',  # Adjust if needed\n",
        "    'test': '/content/mvtec-5/valid/images',    # Adjust if needed\n",
        "}"
      ]
    },
    {
      "cell_type": "code",
      "execution_count": null,
      "metadata": {
        "colab": {
          "base_uri": "https://localhost:8080/",
          "height": 1000
        },
        "id": "eBM164twdBcW",
        "outputId": "1ef07b5e-084b-4839-a54c-956ff8222857"
      },
      "outputs": [],
      "source": [
        "num_samples = 8  # Number of images to sample per dataset\n",
        "\n",
        "for dataset_name, image_folder in dataset_paths.items():\n",
        "    if not os.path.isdir(image_folder):\n",
        "        print(f\"Directory {image_folder} does not exist.\")\n",
        "        continue\n",
        "    image_files = [file for file in os.listdir(image_folder) if file.endswith('.jpg') or file.endswith('.png')]\n",
        "    image_count = len(image_files)\n",
        "    print(f\"{dataset_name.capitalize()} dataset has {image_count} images.\")\n",
        "    if not image_files:\n",
        "        print(f\"No image files found in the {image_folder} directory.\")\n",
        "        continue\n",
        "    interval = max(1, image_count // num_samples)\n",
        "    selected_images = [image_files[i] for i in range(0, image_count, interval)][:num_samples]\n",
        "\n",
        "    # Create a 2x4 grid to display the samples\n",
        "    fig, axes = plt.subplots(2, 4, figsize=(20, 11))\n",
        "    for ax, img_file in zip(axes.ravel(), selected_images):\n",
        "        img_path = os.path.join(image_folder, img_file)\n",
        "        image = Image.open(img_path)\n",
        "        ax.imshow(image)\n",
        "        ax.axis('off')\n",
        "    plt.suptitle(f'Sample Images from {dataset_name.capitalize()} Dataset ({image_count} images)', fontsize=20)\n",
        "    plt.tight_layout()\n",
        "    plt.show()"
      ]
    },
    {
      "cell_type": "code",
      "execution_count": null,
      "metadata": {
        "colab": {
          "base_uri": "https://localhost:8080/"
        },
        "id": "7KEjNEyldEom",
        "outputId": "64f8ec2d-4357-4c56-c7e3-01e78270b2d4"
      },
      "outputs": [],
      "source": [
        "!pip install ultralytics\n",
        "import ultralytics\n",
        "ultralytics.checks()"
      ]
    },
    {
      "cell_type": "code",
      "execution_count": null,
      "metadata": {
        "colab": {
          "base_uri": "https://localhost:8080/",
          "height": 1000
        },
        "id": "TNG_UaWadOUK",
        "outputId": "4f51d2aa-51a0-4040-b847-5c60858927d9"
      },
      "outputs": [],
      "source": [
        "from ultralytics import YOLO\n",
        "\n",
        "# Update this path if your data.yaml is stored elsewhere.\n",
        "data_config = '/content/mvtec-5/data.yaml'\n",
        "model = YOLO(\"yolov8n.pt\")  # Using the nano version; change if necessary\n",
        "\n",
        "results = model.train(\n",
        "    data=data_config,  # Path to the dataset configuration file\n",
        "    epochs=200,        # Number of epochs; adjust based on your needs\n",
        "    imgsz=640,         # Image size input for training\n",
        "    patience=50,       # Early stopping patience\n",
        "    batch=16,          # Batch size (reduce if using CPU only)\n",
        "    optimizer='auto',  # Optimizer configuration\n",
        "    verbose=True       # Verbose output for each epoch\n",
        ")"
      ]
    },
    {
      "cell_type": "code",
      "execution_count": null,
      "metadata": {
        "colab": {
          "base_uri": "https://localhost:8080/",
          "height": 881
        },
        "id": "RU8vYUTHdT4Q",
        "outputId": "c5e8660d-4aee-4f97-f1aa-04d5d54c8963"
      },
      "outputs": [],
      "source": [
        "import cv2\n",
        "import matplotlib.pyplot as plt\n",
        "from ultralytics import YOLO\n",
        "\n",
        "# Load the trained model checkpoint.\n",
        "# If you trained a new model, ensure the checkpoint file name/path matches.\n",
        "model = YOLO('/content/runs/detect/train/weights/best.pt')  # Update with your actual model file\n",
        "# Update the path to a sample image from your dataset.\n",
        "image_path = '/content/mvtec-5/train/images/b10_jpg.rf.675dec7a95471b2d25b194fd3155ca98.jpg'\n",
        "\n",
        "results = model.predict(\n",
        "    image_path,\n",
        "    conf=0.25,  # Confidence threshold\n",
        "    iou=0.45,   # IOU threshold\n",
        "    save=False, # Do not save the output image\n",
        "    show=False  # Do not show using YOLO's built-in viewer\n",
        ")\n",
        "\n",
        "# Retrieve and display the image with predictions\n",
        "img_with_predictions = results[0].plot()\n",
        "\n",
        "plt.figure(figsize=(10, 10))\n",
        "plt.imshow(cv2.cvtColor(img_with_predictions, cv2.COLOR_BGR2RGB))  # Convert BGR to RGB\n",
        "plt.axis('off')\n",
        "plt.title(\"YOLOv8 Prediction Result\")\n",
        "plt.show()"
      ]
    },
    {
      "cell_type": "code",
      "execution_count": null,
      "metadata": {
        "colab": {
          "base_uri": "https://localhost:8080/",
          "height": 1000
        },
        "id": "qUIN0e8fdWb4",
        "outputId": "6b2f783f-9917-4133-89e7-b8a2e2df36cf"
      },
      "outputs": [],
      "source": [
        "import pandas as pd\n",
        "import os\n",
        "import matplotlib.pyplot as plt\n",
        "\n",
        "# Define the path where your results.csv is saved.\n",
        "# Ensure that post_training_files_path is defined. For example:\n",
        "post_training_files_path = '/content/runs/detect/train/results.csv'  # Update if needed\n",
        "results_csv_path = os.path.join(post_training_files_path, 'results.csv')\n",
        "\n",
        "# Load the CSV file into a DataFrame\n",
        "results_csv_path = \"/content/runs/detect/train/results.csv\"\n",
        "df = pd.read_csv(results_csv_path)\n",
        "df.columns = df.columns.str.strip()  # Remove any leading/trailing spaces\n",
        "\n",
        "# Define a simple function to plot learning curves.\n",
        "def plot_learning_curve(train_loss, val_loss, title):\n",
        "    plt.figure(figsize=(10, 5))\n",
        "    plt.plot(df[train_loss], label='Train Loss')\n",
        "    plt.plot(df[val_loss], label='Validation Loss')\n",
        "    plt.title(title)\n",
        "    plt.xlabel(\"Epoch\")\n",
        "    plt.ylabel(\"Loss\")\n",
        "    plt.legend()\n",
        "    plt.grid(True)\n",
        "    plt.show()\n",
        "\n",
        "plot_learning_curve('train/box_loss', 'val/box_loss', 'Box Loss Learning Curve')\n",
        "plot_learning_curve('train/cls_loss', 'val/cls_loss', 'Classification Loss Learning Curve')\n",
        "plot_learning_curve('train/dfl_loss', 'val/dfl_loss', 'Distribution Focal Loss Learning Curve')"
      ]
    }
  ],
  "metadata": {
    "accelerator": "GPU",
    "colab": {
      "gpuType": "T4",
      "provenance": []
    },
    "kernelspec": {
      "display_name": "Python 3",
      "name": "python3"
    },
    "language_info": {
      "name": "python"
    }
  },
  "nbformat": 4,
  "nbformat_minor": 0
}
